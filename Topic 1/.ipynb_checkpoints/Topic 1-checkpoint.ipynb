{
 "cells": [
  {
   "cell_type": "code",
   "execution_count": 42,
   "id": "10c87d13",
   "metadata": {},
   "outputs": [],
   "source": [
    "import random\n",
    "\n",
    "def guessing_game():\n",
    "    guess_value = 0\n",
    "    random_value=random.randint(0,99)\n",
    "    while True:\n",
    "        print(random_value)\n",
    "        guess_value=input(\"猜數字(0~99):\")\n",
    "        \n",
    "        if guess_value.isdigit():\n",
    "            guess_value=int(guess_value)\n",
    "            if random_value>guess_value:\n",
    "                print(\"比\",guess_value,\"還要大\")\n",
    "            elif random_value<guess_value:\n",
    "                print(\"比\",guess_value,\"還要小\")\n",
    "            elif random_value==guess_value:\n",
    "                print(\"正確答案，數字為\",guess_value)\n",
    "                break\n",
    "        else:\n",
    "            print(\"請輸入數值\")\n",
    "        \n",
    "guessing_game()  "
   ]
  },
  {
   "cell_type": "code",
   "execution_count": null,
   "id": "b762efef",
   "metadata": {},
   "outputs": [],
   "source": []
  }
 ],
 "metadata": {
  "kernelspec": {
   "display_name": "Python 3 (ipykernel)",
   "language": "python",
   "name": "python3"
  },
  "language_info": {
   "codemirror_mode": {
    "name": "ipython",
    "version": 3
   },
   "file_extension": ".py",
   "mimetype": "text/x-python",
   "name": "python",
   "nbconvert_exporter": "python",
   "pygments_lexer": "ipython3",
   "version": "3.11.3"
  }
 },
 "nbformat": 4,
 "nbformat_minor": 5
}
