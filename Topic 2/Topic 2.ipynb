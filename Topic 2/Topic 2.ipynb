{
 "cells": [
  {
   "cell_type": "code",
   "execution_count": 21,
   "id": "0d0e98d8",
   "metadata": {},
   "outputs": [
    {
     "name": "stdout",
     "output_type": "stream",
     "text": [
      "6\n"
     ]
    }
   ],
   "source": [
    "# 自身\n",
    "def my_sum(value_list):   \n",
    "    sum_v=0\n",
    "    for i in range(0,len(value_list)):\n",
    "        sum_v=sum_v+value_list[i]\n",
    "    print(sum_v)\n",
    "my_sum([1,2,3])"
   ]
  },
  {
   "cell_type": "code",
   "execution_count": 22,
   "id": "d7723abe",
   "metadata": {},
   "outputs": [
    {
     "name": "stdout",
     "output_type": "stream",
     "text": [
      "(1, 2, 3, 3, 3)\n",
      "<class 'tuple'>\n",
      "30\n"
     ]
    }
   ],
   "source": [
    "# 書本\n",
    "# 將輸入字元打包成Tuple\n",
    "def func(*args):\n",
    "    print(args)\n",
    "    print(type(args))\n",
    "func(1,2,3,3,3)\n",
    "\n",
    "# 解答\n",
    "def my_sum(*value):\n",
    "    output = 0\n",
    "    for x in value:\n",
    "        output+=x\n",
    "    return output\n",
    "print(my_sum(10,20))"
   ]
  },
  {
   "cell_type": "code",
   "execution_count": null,
   "id": "88e42f6a",
   "metadata": {},
   "outputs": [],
   "source": []
  }
 ],
 "metadata": {
  "kernelspec": {
   "display_name": "Python 3 (ipykernel)",
   "language": "python",
   "name": "python3"
  },
  "language_info": {
   "codemirror_mode": {
    "name": "ipython",
    "version": 3
   },
   "file_extension": ".py",
   "mimetype": "text/x-python",
   "name": "python",
   "nbconvert_exporter": "python",
   "pygments_lexer": "ipython3",
   "version": "3.11.3"
  }
 },
 "nbformat": 4,
 "nbformat_minor": 5
}
