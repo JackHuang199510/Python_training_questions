{
 "cells": [
  {
   "cell_type": "code",
   "execution_count": 15,
   "id": "9895a55d",
   "metadata": {},
   "outputs": [
    {
     "name": "stdout",
     "output_type": "stream",
     "text": [
      "輸入跑10公里時間:(直接按Enter結束)10\n",
      "輸入跑10公里時間:(直接按Enter結束)20\n",
      "輸入跑10公里時間:(直接按Enter結束)10\n",
      "輸入跑10公里時間:(直接按Enter結束)\n",
      "跑 3 次的平均時間為 13.333333333333334 分鐘\n"
     ]
    }
   ],
   "source": [
    "# 主程式\n",
    "def run_timing():\n",
    "    total_time = 0.0\n",
    "    number_of_runs = 0\n",
    "    while True:\n",
    "        run_time = input(\"輸入跑10公里時間:(直接按Enter結束)\")\n",
    "        if run_time == '':\n",
    "            break\n",
    "        try:\n",
    "            run_time_value = float(run_time)\n",
    "            total_time += run_time_value\n",
    "            number_of_runs += 1\n",
    "        except Exception as e:\n",
    "            print('產生錯誤',e)\n",
    "    if number_of_runs > 0:\n",
    "        average_time = (total_time / number_of_runs)\n",
    "    else:\n",
    "        average_time = 0.0\n",
    "    print('跑',number_of_runs,'次的平均時間為',average_time,'分鐘')\n",
    "run_timing()"
   ]
  },
  {
   "cell_type": "code",
   "execution_count": 8,
   "id": "fd807fc4",
   "metadata": {},
   "outputs": [
    {
     "name": "stdout",
     "output_type": "stream",
     "text": [
      "輸入數值：XX\n",
      "產生錯誤 could not convert string to float: 'XX'\n"
     ]
    }
   ],
   "source": [
    "# 輸出例外原因\n",
    "input_str = input('輸入數值：')\n",
    "try:\n",
    "    num= float(input_str)\n",
    "    print(num)\n",
    "except Exception as e:\n",
    "    print('產生錯誤',e)"
   ]
  },
  {
   "cell_type": "code",
   "execution_count": 30,
   "id": "19696d8f",
   "metadata": {},
   "outputs": [
    {
     "name": "stdout",
     "output_type": "stream",
     "text": [
      "輸入字串:3\n",
      "你輸入了 3\n",
      "輸入字串:4\n",
      "你輸入了 4\n",
      "輸入字串:50\n",
      "你輸入了 50\n",
      "輸入字串:\n",
      "輸入結束\n"
     ]
    }
   ],
   "source": [
    "while text := input('輸入字串:'):\n",
    "    print('你輸入了',text)\n",
    "print('輸入結束')"
   ]
  },
  {
   "cell_type": "code",
   "execution_count": null,
   "id": "5127c58d",
   "metadata": {},
   "outputs": [],
   "source": []
  }
 ],
 "metadata": {
  "kernelspec": {
   "display_name": "Python 3 (ipykernel)",
   "language": "python",
   "name": "python3"
  },
  "language_info": {
   "codemirror_mode": {
    "name": "ipython",
    "version": 3
   },
   "file_extension": ".py",
   "mimetype": "text/x-python",
   "name": "python",
   "nbconvert_exporter": "python",
   "pygments_lexer": "ipython3",
   "version": "3.11.3"
  }
 },
 "nbformat": 4,
 "nbformat_minor": 5
}
