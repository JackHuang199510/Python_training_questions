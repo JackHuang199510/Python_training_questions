{
 "cells": [
  {
   "cell_type": "code",
   "execution_count": 1,
   "metadata": {},
   "outputs": [
    {
     "name": "stdout",
     "output_type": "stream",
     "text": [
      "n\n",
      "o\n",
      "h\n",
      "t\n",
      "y\n",
      "P\n"
     ]
    }
   ],
   "source": [
    "# 文字反轉\n",
    "for t in reversed('Python'):\n",
    "    print(t)"
   ]
  },
  {
   "cell_type": "code",
   "execution_count": 2,
   "metadata": {},
   "outputs": [
    {
     "name": "stdout",
     "output_type": "stream",
     "text": [
      "0 n\n",
      "1 o\n",
      "2 h\n",
      "3 t\n",
      "4 y\n",
      "5 P\n"
     ]
    }
   ],
   "source": [
    "# 利用enumerate文字反轉同時取的索引\n",
    "for index, char in enumerate(reversed('Python')):\n",
    "    print(index,char)"
   ]
  },
  {
   "cell_type": "code",
   "execution_count": 7,
   "metadata": {},
   "outputs": [
    {
     "name": "stdout",
     "output_type": "stream",
     "text": [
      "65\n",
      "70\n"
     ]
    }
   ],
   "source": [
    "# 利用ord()函數取得ASC碼\n",
    "print(ord('A'))\n",
    "print(ord('F'))"
   ]
  },
  {
   "cell_type": "code",
   "execution_count": 9,
   "metadata": {},
   "outputs": [
    {
     "name": "stdout",
     "output_type": "stream",
     "text": [
      "輸入十六進位數字AA\n",
      "十進位為: 170\n"
     ]
    }
   ],
   "source": [
    "# 題目:16進位轉10進位\n",
    "def hex_to_dec():\n",
    "    hexnum = input('輸入十六進位數字')\n",
    "    decnum = 0\n",
    "    \n",
    "    for power, digit in enumerate(reversed(hexnum)):\n",
    "        if digit.isdigit():\n",
    "            digit_num = int(digit)\n",
    "        else:\n",
    "            digit_num = ord(digit.upper()) - ord('A') + 10\n",
    "        decnum += digit_num * (16 ** power)\n",
    "    print('十進位為:',decnum)\n",
    "hex_to_dec()"
   ]
  },
  {
   "cell_type": "code",
   "execution_count": null,
   "metadata": {},
   "outputs": [],
   "source": []
  }
 ],
 "metadata": {
  "kernelspec": {
   "display_name": "Python 3",
   "language": "python",
   "name": "python3"
  },
  "language_info": {
   "codemirror_mode": {
    "name": "ipython",
    "version": 3
   },
   "file_extension": ".py",
   "mimetype": "text/x-python",
   "name": "python",
   "nbconvert_exporter": "python",
   "pygments_lexer": "ipython3",
   "version": "3.8.5"
  }
 },
 "nbformat": 4,
 "nbformat_minor": 4
}
