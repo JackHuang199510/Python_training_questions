{
 "cells": [
  {
   "cell_type": "code",
   "execution_count": 9,
   "id": "a7ef165c",
   "metadata": {},
   "outputs": [
    {
     "name": "stdout",
     "output_type": "stream",
     "text": [
      "h\n",
      "o\n"
     ]
    }
   ],
   "source": [
    "word = 'hello'\n",
    "print(word[0])\n",
    "print(word[4])"
   ]
  },
  {
   "cell_type": "code",
   "execution_count": 10,
   "id": "b8c90de7",
   "metadata": {},
   "outputs": [],
   "source": [
    "# 判斷字首是否為母音\n",
    "if word[0] in 'aeiou':\n",
    "    print(\"母音\")"
   ]
  },
  {
   "cell_type": "code",
   "execution_count": 13,
   "id": "8a4eb5c3",
   "metadata": {},
   "outputs": [
    {
     "name": "stdout",
     "output_type": "stream",
     "text": [
      "put\n",
      "puter\n",
      "comput\n"
     ]
    }
   ],
   "source": [
    "word = 'computer'\n",
    "print(word[3:6])\n",
    "print(word[3:])\n",
    "print(word[:6])"
   ]
  },
  {
   "cell_type": "code",
   "execution_count": 14,
   "id": "7a16f4f3",
   "metadata": {},
   "outputs": [
    {
     "data": {
      "text/plain": [
       "'ythonpay'"
      ]
     },
     "execution_count": 14,
     "metadata": {},
     "output_type": "execute_result"
    }
   ],
   "source": [
    "# 字母開頭為aeiou就在字尾加way，如果不是則將字首移到字尾並加上py\n",
    "def pig_latin(word):\n",
    "    if word[0] in 'aeiou':\n",
    "        return word + 'way'\n",
    "    else:\n",
    "        return word[1:] + word[0] +'ay'\n",
    "pig_latin('python')"
   ]
  },
  {
   "cell_type": "code",
   "execution_count": 18,
   "id": "5df58465",
   "metadata": {},
   "outputs": [
    {
     "data": {
      "text/plain": [
       "'ythonpay'"
      ]
     },
     "execution_count": 18,
     "metadata": {},
     "output_type": "execute_result"
    }
   ],
   "source": [
    "# f-string用法，讓程式碼更簡潔\n",
    "def pig_latin(word):\n",
    "    if word[0] in 'aeiou':\n",
    "        return f'{word}way'\n",
    "    else:\n",
    "        return f'{word[1:]}{word[0]}ay'\n",
    "pig_latin('python')"
   ]
  },
  {
   "cell_type": "code",
   "execution_count": null,
   "id": "bd9e3fdd",
   "metadata": {},
   "outputs": [],
   "source": []
  }
 ],
 "metadata": {
  "kernelspec": {
   "display_name": "Python 3 (ipykernel)",
   "language": "python",
   "name": "python3"
  },
  "language_info": {
   "codemirror_mode": {
    "name": "ipython",
    "version": 3
   },
   "file_extension": ".py",
   "mimetype": "text/x-python",
   "name": "python",
   "nbconvert_exporter": "python",
   "pygments_lexer": "ipython3",
   "version": "3.11.3"
  }
 },
 "nbformat": 4,
 "nbformat_minor": 5
}
