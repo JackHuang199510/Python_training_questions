{
 "cells": [
  {
   "cell_type": "code",
   "execution_count": 1,
   "id": "510cd1b3",
   "metadata": {},
   "outputs": [
    {
     "name": "stdout",
     "output_type": "stream",
     "text": [
      "['abc', 'def', 'ghi']\n"
     ]
    }
   ],
   "source": [
    "# 字串切割\n",
    "word_list = 'abc def ghi'\n",
    "print(word_list.split(' '))"
   ]
  },
  {
   "cell_type": "code",
   "execution_count": 2,
   "id": "07f48e94",
   "metadata": {},
   "outputs": [
    {
     "data": {
      "text/plain": [
       "'abc def ghi'"
      ]
     },
     "execution_count": 2,
     "metadata": {},
     "output_type": "execute_result"
    }
   ],
   "source": [
    "# 字串插入串聯\n",
    "' '.join(['abc','def','ghi'])"
   ]
  },
  {
   "cell_type": "code",
   "execution_count": 5,
   "id": "4b05ec7d",
   "metadata": {},
   "outputs": [
    {
     "data": {
      "text/plain": [
       "'abcway efday ighay'"
      ]
     },
     "execution_count": 5,
     "metadata": {},
     "output_type": "execute_result"
    }
   ],
   "source": [
    "# 豬拉丁文翻譯機\n",
    "\n",
    "def pl_sentence(sentence):\n",
    "    output = []\n",
    "    for word in sentence.lower().split():\n",
    "        if word[0] in 'aeiou':\n",
    "            output.append(f'{word}way')\n",
    "        else:\n",
    "            output.append(f'{word[1:]}{word[0]}ay')\n",
    "    return ' '.join(output)\n",
    "pl_sentence('abc def hig')"
   ]
  },
  {
   "cell_type": "code",
   "execution_count": null,
   "id": "e1511bc5",
   "metadata": {},
   "outputs": [],
   "source": []
  }
 ],
 "metadata": {
  "kernelspec": {
   "display_name": "Python 3 (ipykernel)",
   "language": "python",
   "name": "python3"
  },
  "language_info": {
   "codemirror_mode": {
    "name": "ipython",
    "version": 3
   },
   "file_extension": ".py",
   "mimetype": "text/x-python",
   "name": "python",
   "nbconvert_exporter": "python",
   "pygments_lexer": "ipython3",
   "version": "3.11.3"
  }
 },
 "nbformat": 4,
 "nbformat_minor": 5
}
